{
 "cells": [
  {
   "cell_type": "markdown",
   "metadata": {},
   "source": [
    "# QCTO - Workplace Module\n",
    "\n",
    "## Stocking Up on L'Oréal: A Prediction Model\n",
    "#### Done By: Mahlatse Masemola\n",
    "\n",
    "© ExploreAI 2024\n",
    "\n",
    "<div align=\"center\" style=\"font-size: 50%; text-align: center; margin: 0 auto;\">\n",
    "    <img src=\"https://cloudfront-us-east-2.images.arcpublishing.com/reuters/3L7GCBXE3ZP6FFQMTUA3J2TARY.jpg\" \n",
    "         style=\"display: block; margin-left: auto; margin-right: auto; width: 80%; height: 300px; object-fit: cover;\" />\n",
    "</div>\n",
    "\n",
    "---\n",
    "\n",
    "## Table of Contents\n",
    "\n",
    "<a href=#BC> Background Context</a>\n",
    "\n",
    "<a href=#one>1. Importing Packages</a>\n",
    "\n",
    "<a href=#two>2. Data Collection and Description</a>\n",
    "\n",
    "<a href=#three>3. Loading Data </a>\n",
    "\n",
    "<a href=#four>4. Data Cleaning and Filtering</a>\n",
    "\n",
    "<a href=#five>5. Exploratory Data Analysis (EDA)</a>\n",
    "\n",
    "<a href=#six>6. Modeling </a>\n",
    "\n",
    "<a href=#seven>7. Evaluation and Validation</a>\n",
    "\n",
    "<a href=#eight>8. Final Model</a>\n",
    "\n",
    "<a href=#nine>9. Conclusion and Future Work</a>\n",
    "\n",
    "<a href=#ten>10. References</a>"
   ]
  },
  {
   "cell_type": "markdown",
   "metadata": {},
   "source": [
    "---\n",
    " <a id=\"BC\"></a>\n",
    "## **Background Context**\n",
    "<a href=#cont>Back to Table of Contents</a>\n",
    "\n",
    "* **Background Information:**\n",
    "L'Oréal has a diverse portfolio of brands and operates in a highly competitive industry that includes other major players such as Estée Lauder and Coty. The company’s stock price is influenced by a complex interplay of internal factors (like product launches and earnings reports) and external factors (such as macroeconomic indicators and geopolitical events). This project aims to address the challenge of building a predictive model that accounts for this complexity.\n",
    "\n",
    "* **Purpose:** \n",
    "The primary objective of this project is to build a robust machine learning model that predicts the future stock prices of L'Oréal. By leveraging historical stock price data and key financial indicators, the project aims to provide insights into the factors that influence L'Oréal's stock price movements. This predictive model can be used by investors, financial analysts, and other stakeholders to make informed decisions regarding L'Oréal's stock.\n",
    "* **Details:**\n",
    "> * <u>Problem Domain and Background:</u> \n",
    "L'Oréal, a global leader in the beauty and cosmetics industry, is listed on the Euronext Paris exchange under the ticker symbol \"OR.PA.\" Like other publicly traded companies, L'Oréal's stock price is subject to fluctuations influenced by a multitude of factors, including market trends, company performance, consumer sentiment, and macroeconomic indicators. Predicting these price movements is a complex and challenging task, as the market is inherently volatile and affected by numerous interrelated variables. The project focuses on creating a data-driven approach to forecast L'Oréal’s stock prices by analyzing historical data such as opening prices, closing prices, daily highs and lows, adjusted closing prices, and trading volumes. This historical data provides a foundational understanding of how the stock has behaved over time and enables the development of predictive models that can capture patterns and trends.\n",
    "> * <u>Project Challenges Addressed:</u>\n",
    ">> Specific Questions and Challenges:\n",
    ">>> 1.**Market Volatility:** Understanding and modeling the inherent volatility in L'Oréal's stock price, especially during times of economic uncertainty or significant market events.     \n",
    ">>> 2.**Data-Driven Insights:** Identifying key financial indicators that have a significant impact on the stock price, such as trading volumes or large fluctuations in daily prices.                    \n",
    ">>> 3.**Model Performance:** Evaluating the performance of different machine learning models to ensure accurate and reliable predictions that can be used by stakeholders to make investment decisions.\n",
    "> * <u> Project Related URL's:</u>\n",
    ">> * Trello Board: https://trello.com/b/2VxjXGsG/cap-stone-project-stocking-up-on-loreal-a-prediction-model                                                                                                 \n",
    ">>* Github:https://github.com/MahlatseMasemola/Stocking-Up-on-L-Or-al-A-Prediction-Model\n",
    "---"
   ]
  },
  {
   "cell_type": "markdown",
   "metadata": {},
   "source": [
    "---\n",
    "<a href=#one></a>\n",
    "## **Importing Packages**\n",
    "<a href=#cont>Back to Table of Contents</a>\n",
    "\n",
    "* **Purpose:** Set up the Python environment with necessary libraries and tools.\n",
    "* **Details:** List and import all the Python packages that will be used throughout the project such as Pandas for data manipulation, Matplotlib/Seaborn for visualization, scikit-learn for modeling, etc.\n",
    "---"
   ]
  },
  {
   "cell_type": "code",
   "execution_count": 1,
   "metadata": {},
   "outputs": [
    {
     "name": "stderr",
     "output_type": "stream",
     "text": [
      "C:\\Users\\Mahlatsi\\AppData\\Roaming\\Python\\Python311\\site-packages\\pandas\\core\\arrays\\masked.py:60: UserWarning: Pandas requires version '1.3.6' or newer of 'bottleneck' (version '1.3.5' currently installed).\n",
      "  from pandas.core import (\n"
     ]
    }
   ],
   "source": [
    "#Packages required for Data Collection\n",
    "import yfinance as yf\n",
    "import pandas as pd\n",
    "from datetime import datetime, timedelta\n",
    "from IPython.display import FileLink\n"
   ]
  },
  {
   "cell_type": "markdown",
   "metadata": {},
   "source": [
    "---\n",
    "<a href=#two></a>\n",
    "## **Data Collection and Description**\n",
    "<a href=#cont>Back to Table of Contents</a>\n",
    "\n",
    "* **Purpose:** Describe how the data was collected and provide an overview of its characteristics.\n",
    "* **Details:** Mention sources of the data, the methods used for collection (e.g., APIs, web scraping, datasets from repositories), and a general description of the dataset including size, scope, and types of data available (e.g., numerical, categorical).\n",
    "---"
   ]
  },
  {
   "cell_type": "markdown",
   "metadata": {},
   "source": [
    "**Data Collection:**                                                                                 \n",
    "The data used in this project was collected using the yfinance library, which allows for easy access to historical stock price data from Yahoo Finance. This library utilizes Yahoo Finance's public API to fetch stock data, ensuring that the information is both accurate and up-to-date. The specific ticker symbol used for L'Oréal is \"OR.PA,\" which represents its listing on the Euronext Paris exchange.The link used to obtain this data is https://finance.yahoo.com/quote/OR.PA/analysis/.\n",
    "\n",
    "**Characteristics of the Dataset**\n",
    "\n",
    "The dataset consists of historical stock price data for L'Oréal over the past five years, from 2019-09-23 to 2024-09-19. The following characteristics outline the dataset:\n",
    "> <u>Size</u>: The dataset contains 1283 rows and 7 columns, representing daily stock prices for the specified time period.                                                                               \n",
    "> <u>Dictionary</u>: The data consists og various attributes related to the stock's performance, including:\n",
    ">> 1.Date: The date for each entry.                                                                     \n",
    ">> 2.Open: The stock price at market opening.                                                           \n",
    ">> 3.High: The highest stock price during the trading day.                                             \n",
    ">> 4.Low: The lowest stock price during the trading day.                                               \n",
    ">> 5.Close: The stock price at market closing.                                                         \n",
    ">> 6.Volume: The total number of shares traded on that day.                                             \n",
    ">> 7.Adjusted Close: The closing price adjusted for dividends and stock splits  .\n",
    "\n",
    "**Types of Data**\n",
    "The dataset primarily consists of numerical data types, including:\n",
    "> <u>Numerical</u>: Prices (Open, High, Low, Close, Adjusted Close) and Volume.                       \n",
    "> <u>Temporal</u>: The Date, which is essential for time series analysis.\n"
   ]
  },
  {
   "cell_type": "markdown",
   "metadata": {},
   "source": [
    "---\n",
    "<a href=#three></a>\n",
    "## **Loading Data**\n",
    "<a href=#cont>Back to Table of Contents</a>\n",
    "\n",
    "* **Purpose:** Load the data into the notebook for manipulation and analysis.\n",
    "* **Details:** Show the code used to load the data and display the first few rows to give a sense of what the raw data looks like.\n",
    "---"
   ]
  },
  {
   "cell_type": "code",
   "execution_count": 5,
   "metadata": {},
   "outputs": [
    {
     "name": "stderr",
     "output_type": "stream",
     "text": [
      "\r",
      "[*********************100%***********************]  1 of 1 completed"
     ]
    },
    {
     "name": "stdout",
     "output_type": "stream",
     "text": [
      "                  Open        High         Low       Close   Adj Close  Volume\n",
      "Date                                                                          \n",
      "2019-09-23  247.000000  248.699997  246.300003  246.300003  226.805466  429254\n",
      "2019-09-24  246.800003  249.600006  245.899994  248.800003  229.107590  384797\n",
      "2019-09-25  248.500000  249.100006  246.000000  246.300003  226.805466  437859\n",
      "2019-09-26  245.600006  251.899994  244.800003  251.100006  231.225555  415576\n",
      "2019-09-27  251.699997  253.800003  251.399994  253.399994  233.343506  366963\n"
     ]
    },
    {
     "name": "stderr",
     "output_type": "stream",
     "text": [
      "\n"
     ]
    }
   ],
   "source": [
    "# Ticker symbol for L'Oréal\n",
    "ticker_symbol = \"OR.PA\" \n",
    "\n",
    "# Calculation of the date five years ago and getting the historical data\n",
    "end_date = datetime.now()\n",
    "start_date = end_date - timedelta(days=5*365)\n",
    "data = yf.download(ticker_symbol, start=start_date.strftime('%Y-%m-%d'), end=end_date.strftime('%Y-%m-%d'))\n",
    "\n",
    "# Display the first few rows of the data\n",
    "print(data.head())"
   ]
  },
  {
   "cell_type": "markdown",
   "metadata": {},
   "source": [
    "---\n",
    "<a href=#four></a>\n",
    "## **Data Cleaning and Filtering**\n",
    "<a href=#cont>Back to Table of Contents</a>\n",
    "\n",
    "* **Purpose:** Prepare the data for analysis by cleaning and filtering.\n",
    "* **Details:** Include steps for handling missing values, removing outliers, correcting errors, and possibly reducing the data (filtering based on certain criteria or features).\n",
    "---"
   ]
  },
  {
   "cell_type": "code",
   "execution_count": null,
   "metadata": {},
   "outputs": [],
   "source": []
  },
  {
   "cell_type": "code",
   "execution_count": null,
   "metadata": {},
   "outputs": [],
   "source": []
  },
  {
   "cell_type": "code",
   "execution_count": null,
   "metadata": {},
   "outputs": [],
   "source": []
  },
  {
   "cell_type": "code",
   "execution_count": null,
   "metadata": {},
   "outputs": [],
   "source": []
  },
  {
   "cell_type": "markdown",
   "metadata": {},
   "source": [
    "---\n",
    "<a href=#five></a>\n",
    "## **Exploratory Data Analysis (EDA)**\n",
    "<a href=#cont>Back to Table of Contents</a>\n",
    "\n",
    "* **Purpose:** Explore and visualize the data to uncover patterns, trends, and relationships.\n",
    "* **Details:** Use statistics and visualizations to explore the data. This may include histograms, box plots, scatter plots, and correlation matrices. Discuss any significant findings.\n",
    "---\n"
   ]
  },
  {
   "cell_type": "code",
   "execution_count": 11,
   "metadata": {},
   "outputs": [],
   "source": [
    "#Please use code cells to code in and do not forget to comment your code.\n",
    "\n"
   ]
  },
  {
   "cell_type": "markdown",
   "metadata": {},
   "source": [
    "---\n",
    "<a href=#six></a>\n",
    "## **Modeling**\n",
    "<a href=#cont>Back to Table of Contents</a>\n",
    "\n",
    "* **Purpose:** Develop and train predictive or statistical models.\n",
    "* **Details:** Describe the choice of models, feature selection and engineering processes, and show how the models are trained. Include code for setting up the models and explanations of the model parameters.\n",
    "---\n"
   ]
  },
  {
   "cell_type": "code",
   "execution_count": null,
   "metadata": {},
   "outputs": [],
   "source": [
    "#Please use code cells to code in and do not forget to comment your code."
   ]
  },
  {
   "cell_type": "markdown",
   "metadata": {},
   "source": [
    "---\n",
    "<a href=#seven></a>\n",
    "## **Evaluation and Validation**\n",
    "<a href=#cont>Back to Table of Contents</a>\n",
    "\n",
    "* **Purpose:** Evaluate and validate the effectiveness and accuracy of the models.\n",
    "* **Details:** Present metrics used to evaluate the models, such as accuracy, precision, recall, F1-score, etc. Discuss validation techniques employed, such as cross-validation or train/test split.\n",
    "---"
   ]
  },
  {
   "cell_type": "code",
   "execution_count": null,
   "metadata": {},
   "outputs": [],
   "source": [
    "#Please use code cells to code in and do not forget to comment your code."
   ]
  },
  {
   "cell_type": "markdown",
   "metadata": {},
   "source": [
    "---\n",
    "<a href=#eight></a>\n",
    "## **Final Model**\n",
    "<a href=#cont>Back to Table of Contents</a>\n",
    "\n",
    "* **Purpose:** Present the final model and its performance.\n",
    "* **Details:** Highlight the best-performing model and discuss its configuration, performance, and why it was chosen over others.\n",
    "---\n"
   ]
  },
  {
   "cell_type": "code",
   "execution_count": null,
   "metadata": {},
   "outputs": [],
   "source": [
    "#Please use code cells to code in and do not forget to comment your code."
   ]
  },
  {
   "cell_type": "markdown",
   "metadata": {},
   "source": [
    "---\n",
    "<a href=#nine></a>\n",
    "## **Conclusion and Future Work**\n",
    "<a href=#cont>Back to Table of Contents</a>\n",
    "\n",
    "* **Purpose:** Summarize the findings and discuss future directions.\n",
    "* **Details:** Conclude with a summary of the results, insights gained, limitations of the study, and suggestions for future projects or improvements in methodology or data collection.\n",
    "---\n"
   ]
  },
  {
   "cell_type": "code",
   "execution_count": null,
   "metadata": {},
   "outputs": [],
   "source": [
    "#Please use code cells to code in and do not forget to comment your code."
   ]
  },
  {
   "cell_type": "markdown",
   "metadata": {},
   "source": [
    "---\n",
    "<a href=#ten></a>\n",
    "## **References**\n",
    "<a href=#cont>Back to Table of Contents</a>\n",
    "\n",
    "* **Purpose:** Provide citations and sources of external content.\n",
    "* **Details:** List all the references and sources consulted during the project, including data sources, research papers, and documentation for tools and libraries used.\n",
    "---"
   ]
  },
  {
   "cell_type": "code",
   "execution_count": null,
   "metadata": {},
   "outputs": [],
   "source": [
    "#Please use code cells to code in and do not forget to comment your code."
   ]
  },
  {
   "cell_type": "markdown",
   "metadata": {},
   "source": [
    "## Additional Sections to Consider\n",
    "\n",
    "* ### Appendix: \n",
    "For any additional code, detailed tables, or extended data visualizations that are supplementary to the main content.\n",
    "\n",
    "* ### Contributors: \n",
    "If this is a group project, list the contributors and their roles or contributions to the project.\n"
   ]
  }
 ],
 "metadata": {
  "kernelspec": {
   "display_name": "Python 3 (ipykernel)",
   "language": "python",
   "name": "python3"
  },
  "language_info": {
   "codemirror_mode": {
    "name": "ipython",
    "version": 3
   },
   "file_extension": ".py",
   "mimetype": "text/x-python",
   "name": "python",
   "nbconvert_exporter": "python",
   "pygments_lexer": "ipython3",
   "version": "3.11.5"
  }
 },
 "nbformat": 4,
 "nbformat_minor": 2
}
